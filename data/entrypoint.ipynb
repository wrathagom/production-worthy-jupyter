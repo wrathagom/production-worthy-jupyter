{
 "cells": [
  {
   "cell_type": "code",
   "execution_count": 5,
   "id": "8d9595cf-9bf8-401f-a858-35e8541b5d09",
   "metadata": {},
   "outputs": [],
   "source": [
    "from datetime import datetime as dt\n",
    "import papermill as pm\n",
    "import os\n"
   ]
  },
  {
   "cell_type": "markdown",
   "id": "3a3c7ab3-d72b-486b-9324-07a85641b122",
   "metadata": {},
   "source": [
    "# Entrypoint\n",
    "\n",
    "We're going to use this Notebook to create a pipeline of sorts of other notebooks. To accomplish this we're going to use Papermill. Papermill takes an input notebook, executes it, and saves the executed copy to an output location. We're going to save our notebooks to a `history` folder so we have a run history of what has been executed previously.\n",
    "\n",
    "## Create Output Directory\n",
    "\n",
    "Papermill wont create directories for you, so the first thing we need to do is create an output directory to save files into:"
   ]
  },
  {
   "cell_type": "code",
   "execution_count": 6,
   "id": "73edc305-906e-4462-8080-64f2a277f6ab",
   "metadata": {},
   "outputs": [
    {
     "name": "stdout",
     "output_type": "stream",
     "text": [
      "Could not create output directory ./history/20220820/, maybe it already exists?\n"
     ]
    }
   ],
   "source": [
    "executionDate = dt.now().strftime(\"%Y%m%d\")\n",
    "executionTime = dt.now().strftime(\"%H%M%S\")\n",
    "\n",
    "executionDir = \"./history/{}\".format(executionDate)\n",
    "\n",
    "try:\n",
    "    os.makedirs(executionDir)\n",
    "    print('Successfully create output directory {}/'.format(executionDir))\n",
    "except:\n",
    "    print('Could not create output directory {}/, maybe it already exists?'.format(executionDir))"
   ]
  },
  {
   "cell_type": "markdown",
   "id": "9723f5e3-ec96-4b61-8682-2b3c71e8c55e",
   "metadata": {},
   "source": [
    "### Step 1: Run the Extract notebook\n",
    "\n",
    "This step runs the `./notebooks/extract.ipynb` notebook, it also saves a copy of the notebook to the `./history` folder so we have some execution history."
   ]
  },
  {
   "cell_type": "code",
   "execution_count": 7,
   "id": "2dd73c64-9a79-4a12-ae72-460db18fc4ef",
   "metadata": {},
   "outputs": [
    {
     "data": {
      "application/vnd.jupyter.widget-view+json": {
       "model_id": "5e9cf29b9d374a528a231158d3098532",
       "version_major": 2,
       "version_minor": 0
      },
      "text/plain": [
       "Executing:   0%|          | 0/6 [00:00<?, ?cell/s]"
      ]
     },
     "metadata": {},
     "output_type": "display_data"
    },
    {
     "name": "stdout",
     "output_type": "stream",
     "text": [
      "Notebook successfully executed in 0.053995 seconds.\n"
     ]
    }
   ],
   "source": [
    "results = pm.execute_notebook(\n",
    "   './notebooks/extract.ipynb',\n",
    "   './history/{}/{}-extract-output.ipynb'.format(executionDate, executionTime),\n",
    "    cwd='./notebooks/'\n",
    ")\n",
    "\n",
    "print('Notebook successfully executed in {} seconds.'.format(results['cells'][0]['metadata']['papermill']['duration']))"
   ]
  },
  {
   "cell_type": "markdown",
   "id": "9f81ccff-2ac9-4ac5-8131-ce0e61796ed3",
   "metadata": {},
   "source": [
    "### Step 2: Run the Transform notebook\n",
    "\n",
    "This step runs the `./notebooks/transform.ipynb` notebook, it also saves a copy of the notebook to the `./history` folder so we have some execution history."
   ]
  },
  {
   "cell_type": "code",
   "execution_count": 8,
   "id": "a4975881-e075-44a1-967e-863f63693fca",
   "metadata": {},
   "outputs": [
    {
     "data": {
      "application/vnd.jupyter.widget-view+json": {
       "model_id": "067bdd21b6c24ee38bbdae447b2bb9fd",
       "version_major": 2,
       "version_minor": 0
      },
      "text/plain": [
       "Executing:   0%|          | 0/13 [00:00<?, ?cell/s]"
      ]
     },
     "metadata": {},
     "output_type": "display_data"
    },
    {
     "name": "stdout",
     "output_type": "stream",
     "text": [
      "Notebook successfully executed in 0.210468 seconds.\n"
     ]
    }
   ],
   "source": [
    "results = pm.execute_notebook(\n",
    "   './notebooks/transform.ipynb',\n",
    "   './history/{}/{}-transform-output.ipynb'.format(executionDate, executionTime),\n",
    "    cwd='./notebooks/'\n",
    ")\n",
    "\n",
    "print('Notebook successfully executed in {} seconds.'.format(results['cells'][0]['metadata']['papermill']['duration']))"
   ]
  },
  {
   "cell_type": "code",
   "execution_count": null,
   "id": "dc786086-18a9-4883-bf17-df78c3b34842",
   "metadata": {},
   "outputs": [],
   "source": []
  }
 ],
 "metadata": {
  "kernelspec": {
   "display_name": "Python 3 (ipykernel)",
   "language": "python",
   "name": "python3"
  },
  "language_info": {
   "codemirror_mode": {
    "name": "ipython",
    "version": 3
   },
   "file_extension": ".py",
   "mimetype": "text/x-python",
   "name": "python",
   "nbconvert_exporter": "python",
   "pygments_lexer": "ipython3",
   "version": "3.10.5"
  }
 },
 "nbformat": 4,
 "nbformat_minor": 5
}
