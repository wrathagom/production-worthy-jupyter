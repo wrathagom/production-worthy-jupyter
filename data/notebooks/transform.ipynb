{
 "cells": [
  {
   "cell_type": "code",
   "execution_count": 4,
   "id": "990f2c9e-0ed1-4382-9468-f98469d04f16",
   "metadata": {},
   "outputs": [],
   "source": [
    "import json\n",
    "import pandas as pd\n",
    "from datetime import datetime as dt\n",
    "\n",
    "from functions import custom\n"
   ]
  },
  {
   "cell_type": "markdown",
   "id": "c59f3008-1436-44e9-b8d1-8c4c3b59567a",
   "metadata": {},
   "source": [
    "### Load the New Joke of the Day"
   ]
  },
  {
   "cell_type": "code",
   "execution_count": 3,
   "id": "58651a45-a8f2-43f0-ab80-ee5428383763",
   "metadata": {
    "tags": [
     "parameters"
    ]
   },
   "outputs": [
    {
     "name": "stdout",
     "output_type": "stream",
     "text": [
      "Loading a Chuck Norris joke to \"../data/raw/Daily Chuck Norris Joke for August 4th, 2022\"\n"
     ]
    }
   ],
   "source": [
    "fileName = '../data/raw/Daily Chuck Norris Joke for {}'.format(custom.custom_strftime('%B {S}, %Y', dt.now()))\n",
    "print('Loading a Chuck Norris joke to \"{}\"'.format(fileName))\n"
   ]
  },
  {
   "cell_type": "code",
   "execution_count": 4,
   "id": "8e262d60-d45f-4d97-87fe-a3ac71309558",
   "metadata": {},
   "outputs": [],
   "source": [
    "f = open(fileName)\n",
    "data = json.load(f)\n",
    "\n",
    "f.close()\n"
   ]
  },
  {
   "cell_type": "code",
   "execution_count": 5,
   "id": "3c1c52ef-5e4a-48b3-964f-e1f0af511fa0",
   "metadata": {},
   "outputs": [
    {
     "data": {
      "text/plain": [
       "{'categories': [],\n",
       " 'created_at': '2020-01-05 13:42:28.420821',\n",
       " 'icon_url': 'https://assets.chucknorris.host/img/avatar/chuck-norris.png',\n",
       " 'id': 'HT825IiPR9qy6vvxlA_hQQ',\n",
       " 'updated_at': '2020-01-05 13:42:28.420821',\n",
       " 'url': 'https://api.chucknorris.io/jokes/HT825IiPR9qy6vvxlA_hQQ',\n",
       " 'value': \"After seeing ''The Blair Witch Project'', Chuck Norris went into the woods, found the Blair Witch, and roundhouse-kicked it repeatedly until it died. When Chuck Norris pays 6 dollars to see a witch movie, you'd better show him a fuckin' witch.\"}"
      ]
     },
     "execution_count": 5,
     "metadata": {},
     "output_type": "execute_result"
    }
   ],
   "source": [
    "data"
   ]
  },
  {
   "cell_type": "markdown",
   "id": "bc62c898-8568-4c14-b5b3-d24c374a3076",
   "metadata": {},
   "source": [
    "### Load the Jokes Database"
   ]
  },
  {
   "cell_type": "code",
   "execution_count": 20,
   "id": "8d219e6b-d5d9-42ba-bb30-4f8f07f50635",
   "metadata": {},
   "outputs": [
    {
     "name": "stdout",
     "output_type": "stream",
     "text": [
      "Maybe the file doesn't exist yet, that's okay, it will get created shortly.\n"
     ]
    }
   ],
   "source": [
    "try:\n",
    "    oldDf = pd.read_parquet('../data/jokes.parquet')\n",
    "    \n",
    "    oldDf.head()\n",
    "except:\n",
    "    print(\"Maybe the file doesn't exist yet, that's okay, it will get created shortly.\")\n",
    "    \n",
    "    oldDf = pd.DataFrame()"
   ]
  },
  {
   "cell_type": "markdown",
   "id": "54131960-0ddc-44fe-b4cb-84994b2d2f5c",
   "metadata": {},
   "source": [
    "### Add the new joke"
   ]
  },
  {
   "cell_type": "code",
   "execution_count": 37,
   "id": "71d907ac-6ea4-44e3-9fc6-89636c6ca4ac",
   "metadata": {},
   "outputs": [
    {
     "name": "stdout",
     "output_type": "stream",
     "text": [
      "The DB now contains 1 jokes, but there may be duplicates.\n"
     ]
    }
   ],
   "source": [
    "newDf = pd.DataFrame.from_records([data])\n",
    "\n",
    "df = pd.concat([oldDf, newDf], ignore_index=True)\n",
    "\n",
    "print('The DB now contains {} jokes, but there may be duplicates.'.format(len(df)))"
   ]
  },
  {
   "cell_type": "markdown",
   "id": "461a8be3-6bde-48c5-9b12-397e0ae0903f",
   "metadata": {},
   "source": [
    "### Deduplicate"
   ]
  },
  {
   "cell_type": "code",
   "execution_count": 38,
   "id": "e39b08fc-afaa-40ee-8c66-437b1d5c2ec5",
   "metadata": {},
   "outputs": [
    {
     "name": "stdout",
     "output_type": "stream",
     "text": [
      "The DB now contains 1 jokes, all duplicates have been removed.\n"
     ]
    }
   ],
   "source": [
    "df.drop_duplicates(subset='id', keep=\"first\", inplace=True)\n",
    "\n",
    "print('The DB now contains {} jokes, all duplicates have been removed.'.format(len(df)))"
   ]
  },
  {
   "cell_type": "markdown",
   "id": "98abe625-c5e3-4dcf-b511-faa87afb7f31",
   "metadata": {},
   "source": [
    "### Save"
   ]
  },
  {
   "cell_type": "code",
   "execution_count": 39,
   "id": "87c89662-7d7a-4f2f-bb22-aace1f3419fb",
   "metadata": {},
   "outputs": [],
   "source": [
    "df.to_parquet('../data/jokes.parquet', index=False)"
   ]
  }
 ],
 "metadata": {
  "kernelspec": {
   "display_name": "Python 3 (ipykernel)",
   "language": "python",
   "name": "python3"
  },
  "language_info": {
   "codemirror_mode": {
    "name": "ipython",
    "version": 3
   },
   "file_extension": ".py",
   "mimetype": "text/x-python",
   "name": "python",
   "nbconvert_exporter": "python",
   "pygments_lexer": "ipython3",
   "version": "3.10.5"
  }
 },
 "nbformat": 4,
 "nbformat_minor": 5
}
