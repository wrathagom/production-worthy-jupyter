{
 "cells": [
  {
   "cell_type": "code",
   "execution_count": 1,
   "id": "6d735432-4309-4951-82f0-6717aa167671",
   "metadata": {},
   "outputs": [],
   "source": [
    "import requests as r\n",
    "import json\n",
    "from datetime import datetime as dt\n",
    "import os\n",
    "\n",
    "from functions import custom\n"
   ]
  },
  {
   "cell_type": "code",
   "execution_count": 2,
   "id": "af9a2801-726f-46ba-8c68-b4417b733108",
   "metadata": {},
   "outputs": [],
   "source": [
    "# Borrowed from here: https://stackoverflow.com/questions/5891555/display-the-date-like-may-5th-using-pythons-strftime\n",
    "\n",
    "def suffix(d):\n",
    "    return 'th' if 11<=d<=13 else {1:'st',2:'nd',3:'rd'}.get(d%10, 'th')\n",
    "\n",
    "def custom_strftime(format, t):\n",
    "    return t.strftime(format).replace('{S}', str(t.day) + suffix(t.day))\n"
   ]
  },
  {
   "cell_type": "code",
   "execution_count": 3,
   "id": "42502f04-d4d0-4f99-a381-1f30a5ea0d14",
   "metadata": {
    "tags": [
     "parameters"
    ]
   },
   "outputs": [
    {
     "name": "stdout",
     "output_type": "stream",
     "text": [
      "Saving a Chuck Norris joke to \".t./data/raw/Daily Chuck Norris Joke for August 9th, 2022\"\n"
     ]
    }
   ],
   "source": [
    "fileName = '../data/raw/Daily Chuck Norris Joke for {}'.format(custom.custom_strftime('%B {S}, %Y', dt.now()))\n",
    "print('Saving a Chuck Norris joke to \"{}\"'.format(fileName))\n"
   ]
  },
  {
   "cell_type": "code",
   "execution_count": 4,
   "id": "a4f28c12-8ae6-42f6-aeb6-6307dc62a489",
   "metadata": {},
   "outputs": [],
   "source": [
    "joke = r.get('https://api.chucknorris.io/jokes/random').json()\n"
   ]
  },
  {
   "cell_type": "code",
   "execution_count": 5,
   "id": "ebd0a3e3-bdff-4516-9996-2d929541c274",
   "metadata": {},
   "outputs": [],
   "source": [
    "os.makedirs(os.path.dirname(fileName), exist_ok=True)\n",
    "\n",
    "with open(fileName, 'w', encoding='utf-8') as f:\n",
    "    json.dump(joke, f, ensure_ascii=False, indent=4)\n"
   ]
  },
  {
   "cell_type": "code",
   "execution_count": null,
   "id": "1727ce73-f778-403c-9a74-4f5af0eed217",
   "metadata": {},
   "outputs": [],
   "source": []
  }
 ],
 "metadata": {
  "kernelspec": {
   "display_name": "Python 3 (ipykernel)",
   "language": "python",
   "name": "python3"
  },
  "language_info": {
   "codemirror_mode": {
    "name": "ipython",
    "version": 3
   },
   "file_extension": ".py",
   "mimetype": "text/x-python",
   "name": "python",
   "nbconvert_exporter": "python",
   "pygments_lexer": "ipython3",
   "version": "3.10.5"
  }
 },
 "nbformat": 4,
 "nbformat_minor": 5
}
